{
 "cells": [
  {
   "cell_type": "markdown",
   "id": "34cb5a4c-0000-4094-9b7e-bbe20c054272",
   "metadata": {},
   "source": [
    "Let's demo how to calculate K corrections using Blanton for a single galaxy"
   ]
  },
  {
   "cell_type": "code",
   "execution_count": 1,
   "id": "80c2fcd5-8616-4187-9a82-bf8b9cd5f3e2",
   "metadata": {},
   "outputs": [],
   "source": [
    "import os\n",
    "import argparse\n",
    "import pandas as pd\n",
    "from datasets import load_dataset\n",
    "from tqdm import tqdm\n",
    "import kcorrect.kcorrect\n",
    "from astropy.io import fits"
   ]
  },
  {
   "cell_type": "code",
   "execution_count": 2,
   "id": "253147f6-41d9-4805-9575-2e1d01d3713c",
   "metadata": {},
   "outputs": [],
   "source": [
    "def load_astroclip_dataset(dataset_path, split):\n",
    "    \"\"\"Load the specified split of the AstroCLIP dataset.\"\"\"\n",
    "    print(f\"Loading AstroCLIP dataset from: {dataset_path} (split: {split})\")\n",
    "    return load_dataset(dataset_path, split=split)\n",
    "def load_photometry_data(file_path, key='df'):\n",
    "    \"\"\"Load photometry data from an HDF5 file.\"\"\"\n",
    "    print(f\"Loading photometry data from: {file_path}\")\n",
    "    return pd.read_hdf(file_path, key=key)"
   ]
  },
  {
   "cell_type": "code",
   "execution_count": 3,
   "id": "512f1251-5015-41af-8e1b-801bd0bf26aa",
   "metadata": {},
   "outputs": [
    {
     "name": "stdout",
     "output_type": "stream",
     "text": [
      "Loading AstroCLIP dataset from: /home/jrodriguez/deep-KCorrect/data/raw/AstroCLIP (split: train)\n"
     ]
    },
    {
     "data": {
      "application/vnd.jupyter.widget-view+json": {
       "model_id": "891008bb3a7a411aae2c6fca83008621",
       "version_major": 2,
       "version_minor": 0
      },
      "text/plain": [
       "Resolving data files:   0%|          | 0/139 [00:00<?, ?it/s]"
      ]
     },
     "metadata": {},
     "output_type": "display_data"
    },
    {
     "data": {
      "application/vnd.jupyter.widget-view+json": {
       "model_id": "09e32161a9854f9595677df7d2be376f",
       "version_major": 2,
       "version_minor": 0
      },
      "text/plain": [
       "Resolving data files:   0%|          | 0/36 [00:00<?, ?it/s]"
      ]
     },
     "metadata": {},
     "output_type": "display_data"
    },
    {
     "data": {
      "application/vnd.jupyter.widget-view+json": {
       "model_id": "77358555d3b94206a81dfc9675683734",
       "version_major": 2,
       "version_minor": 0
      },
      "text/plain": [
       "Loading dataset shards:   0%|          | 0/92 [00:00<?, ?it/s]"
      ]
     },
     "metadata": {},
     "output_type": "display_data"
    },
    {
     "name": "stdout",
     "output_type": "stream",
     "text": [
      "Loading AstroCLIP dataset from: /home/jrodriguez/deep-KCorrect/data/raw/AstroCLIP (split: test)\n"
     ]
    },
    {
     "data": {
      "application/vnd.jupyter.widget-view+json": {
       "model_id": "7ce87eb6bf55430ea0576f35cb4bb3c0",
       "version_major": 2,
       "version_minor": 0
      },
      "text/plain": [
       "Resolving data files:   0%|          | 0/139 [00:00<?, ?it/s]"
      ]
     },
     "metadata": {},
     "output_type": "display_data"
    },
    {
     "data": {
      "application/vnd.jupyter.widget-view+json": {
       "model_id": "42e1744ee36045b38d17877f8365b543",
       "version_major": 2,
       "version_minor": 0
      },
      "text/plain": [
       "Resolving data files:   0%|          | 0/36 [00:00<?, ?it/s]"
      ]
     },
     "metadata": {},
     "output_type": "display_data"
    },
    {
     "data": {
      "application/vnd.jupyter.widget-view+json": {
       "model_id": "b55807372f824373a1a6bfcdfddbb9eb",
       "version_major": 2,
       "version_minor": 0
      },
      "text/plain": [
       "Loading dataset shards:   0%|          | 0/24 [00:00<?, ?it/s]"
      ]
     },
     "metadata": {},
     "output_type": "display_data"
    }
   ],
   "source": [
    "astroclip_train = load_astroclip_dataset(\"/home/jrodriguez/deep-KCorrect/data/raw/AstroCLIP\", split=\"train\")\n",
    "astroclip_test = load_astroclip_dataset(\"/home/jrodriguez/deep-KCorrect/data/raw/AstroCLIP\", split=\"test\")"
   ]
  },
  {
   "cell_type": "code",
   "execution_count": 4,
   "id": "4e30b0cf-330b-4699-8acb-f50860812864",
   "metadata": {},
   "outputs": [
    {
     "name": "stdout",
     "output_type": "stream",
     "text": [
      "Loading photometry data from: /home/jrodriguez/deep-KCorrect/data/desi_edr_fluxes.h5\n"
     ]
    }
   ],
   "source": [
    "photometry = load_photometry_data(\"/home/jrodriguez/deep-KCorrect/data/desi_edr_fluxes.h5\")"
   ]
  },
  {
   "cell_type": "code",
   "execution_count": 5,
   "id": "807cc51e-abee-44a2-9930-9ccaf7f0cff0",
   "metadata": {},
   "outputs": [],
   "source": [
    "def calculate_k_corrections_for_target(targetid, redshift, photometry, kc):\n",
    "    \"\"\"Calculate K-corrections and absolute magnitudes for a specific target.\"\"\"\n",
    "    results = {}\n",
    "    filtered_df = photometry[photometry['targetid'] == targetid]\n",
    "    if filtered_df.empty:\n",
    "        raise ValueError(f\"No data found for targetid: {targetid}\")\n",
    "\n",
    "    ivar = [filtered_df['flux_ivar_g'].item() * 10**18,\n",
    "            filtered_df['flux_ivar_r'].item() * 10**18,\n",
    "            filtered_df['flux_ivar_z'].item() * 10**18]\n",
    "    dered_maggies = [filtered_df['dered_flux_g'].item() * 10**(-9),\n",
    "                     filtered_df['dered_flux_r'].item() * 10**(-9),\n",
    "                     filtered_df['dered_flux_z'].item() * 10**(-9)]\n",
    "\n",
    "    coeffs = kc.fit_coeffs(redshift=redshift, maggies=dered_maggies, ivar=ivar)\n",
    "    k_dered = kc.kcorrect(redshift=redshift, coeffs=coeffs, band_shift=0.1)\n",
    "    \n",
    "    results[\"K_G_G\"] = k_dered[0]\n",
    "    results[\"K_R_G\"] = k_dered[1]\n",
    "    results[\"K_Z_G\"] = k_dered[2]\n",
    "    results[\"K_R_R\"] = k_dered[3]\n",
    "    results[\"K_Z_R\"] = k_dered[4]\n",
    "    results[\"K_Z_Z\"] = k_dered[5]\n",
    "\n",
    "    absmag = kc.absmag(redshift=redshift, maggies=dered_maggies, ivar=ivar, coeffs=coeffs)\n",
    "    results[\"absmag_g_g\"] = absmag[0]\n",
    "    results[\"absmag_g_r\"] = absmag[1]\n",
    "    results[\"absmag_g_z\"] = absmag[2]\n",
    "    results[\"absmag_r_r\"] = absmag[3]\n",
    "    results[\"absmag_z_r\"] = absmag[4]\n",
    "    results[\"absmag_z_z\"] = absmag[5]\n",
    "    results[\"z\"] = redshift\n",
    "\n",
    "    return results"
   ]
  },
  {
   "cell_type": "code",
   "execution_count": 6,
   "id": "f0cb3a71-4a80-4e97-bed1-54cb17b30da1",
   "metadata": {},
   "outputs": [],
   "source": [
    "# Initialize kcorrect\n",
    "responses_in = ['bass_g', 'bass_r', 'mzls_z']\n",
    "responses_out = ['sdss_g0', 'sdss_g0', 'sdss_g0', 'sdss_r0', 'sdss_r0', 'sdss_z0']\n",
    "responses_map = ['bass_g', 'bass_r', 'mzls_z', 'bass_r', 'mzls_z', 'mzls_z']\n",
    "kc = kcorrect.kcorrect.Kcorrect(responses=responses_in, responses_out=responses_out, responses_map=responses_map, abcorrect=False)"
   ]
  },
  {
   "cell_type": "code",
   "execution_count": 7,
   "id": "9d0ad3fe-4106-4bdf-9804-686af5e2f488",
   "metadata": {},
   "outputs": [],
   "source": [
    "offending_target_id = 39633308409138239"
   ]
  },
  {
   "cell_type": "code",
   "execution_count": 23,
   "id": "415ca699-9dd0-43f9-bb9b-4fef7bc3ced7",
   "metadata": {},
   "outputs": [
    {
     "data": {
      "text/plain": [
       "{'K_G_G': 0.3159285804964115,\n",
       " 'K_R_G': -0.9699822403249246,\n",
       " 'K_Z_G': -1.9846507308255674,\n",
       " 'K_R_R': -0.0006162519794707339,\n",
       " 'K_Z_R': -1.0152847424801135,\n",
       " 'K_Z_Z': -0.02442768609826772,\n",
       " 'absmag_g_g': -19.419577,\n",
       " 'absmag_g_r': -19.41958,\n",
       " 'absmag_g_z': -19.419579,\n",
       " 'absmag_r_r': -20.325846,\n",
       " 'absmag_z_r': -20.325846,\n",
       " 'absmag_z_z': -21.220984,\n",
       " 'z': 0.2222}"
      ]
     },
     "execution_count": 23,
     "metadata": {},
     "output_type": "execute_result"
    }
   ],
   "source": [
    "calculate_k_corrections_for_target(39633422527760933,0.2222, photometry, kc)"
   ]
  },
  {
   "cell_type": "code",
   "execution_count": null,
   "id": "1804545a-8d78-4f25-a00e-7fbd47461fbd",
   "metadata": {},
   "outputs": [],
   "source": []
  }
 ],
 "metadata": {
  "kernelspec": {
   "display_name": "Python 3 (ipykernel)",
   "language": "python",
   "name": "python3"
  },
  "language_info": {
   "codemirror_mode": {
    "name": "ipython",
    "version": 3
   },
   "file_extension": ".py",
   "mimetype": "text/x-python",
   "name": "python",
   "nbconvert_exporter": "python",
   "pygments_lexer": "ipython3",
   "version": "3.9.21"
  }
 },
 "nbformat": 4,
 "nbformat_minor": 5
}
